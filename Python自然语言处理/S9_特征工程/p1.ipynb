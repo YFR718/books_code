{
 "cells": [
  {
   "cell_type": "code",
   "execution_count": null,
   "metadata": {
    "collapsed": true,
    "pycharm": {
     "name": "#%%\n",
     "is_executing": true
    }
   },
   "outputs": [],
   "source": []
  },
  {
   "cell_type": "code",
   "execution_count": null,
   "outputs": [],
   "source": [],
   "metadata": {
    "collapsed": false,
    "pycharm": {
     "name": "#%%\n"
    }
   }
  },
  {
   "cell_type": "code",
   "execution_count": null,
   "outputs": [],
   "source": [],
   "metadata": {
    "collapsed": false,
    "pycharm": {
     "name": "#%%\n"
    }
   }
  },
  {
   "cell_type": "markdown",
   "source": [
    "tf-idf"
   ],
   "metadata": {
    "collapsed": false,
    "pycharm": {
     "name": "#%% md\n"
    }
   }
  },
  {
   "cell_type": "code",
   "execution_count": 3,
   "outputs": [
    {
     "name": "stdout",
     "output_type": "stream",
     "text": [
      "{'orange': 3, 'banana': 1, 'apple': 0, 'grape': 2}\n",
      "  (0, 2)\t0.5230350301866413\n",
      "  (0, 0)\t0.423441934145613\n",
      "  (0, 1)\t0.5230350301866413\n",
      "  (0, 3)\t0.5230350301866413\n",
      "  (1, 0)\t0.8508160982744233\n",
      "  (1, 1)\t0.5254635733493682\n",
      "  (2, 2)\t1.0\n",
      "  (3, 0)\t0.6292275146695526\n",
      "  (3, 3)\t0.7772211620785797\n",
      "[[0.42344193 0.52303503 0.52303503 0.52303503]\n",
      " [0.8508161  0.52546357 0.         0.        ]\n",
      " [0.         0.         1.         0.        ]\n",
      " [0.62922751 0.         0.         0.77722116]]\n"
     ]
    }
   ],
   "source": [
    "from sklearn.feature_extraction.text import  TfidfVectorizer\n",
    "text = [\"orange banana apple grape\",\"banana apple apple\",\"grape\",\"orange apple\"]\n",
    "cv = TfidfVectorizer()\n",
    "cv_fit = cv.fit_transform(text)\n",
    "print(cv.vocabulary_)\n",
    "print(cv_fit)\n",
    "print(cv_fit.toarray())"
   ],
   "metadata": {
    "collapsed": false,
    "pycharm": {
     "name": "#%%\n"
    }
   }
  },
  {
   "cell_type": "code",
   "execution_count": null,
   "outputs": [],
   "source": [],
   "metadata": {
    "collapsed": false,
    "pycharm": {
     "name": "#%%\n"
    }
   }
  }
 ],
 "metadata": {
  "kernelspec": {
   "display_name": "Python 3",
   "language": "python",
   "name": "python3"
  },
  "language_info": {
   "codemirror_mode": {
    "name": "ipython",
    "version": 2
   },
   "file_extension": ".py",
   "mimetype": "text/x-python",
   "name": "python",
   "nbconvert_exporter": "python",
   "pygments_lexer": "ipython2",
   "version": "2.7.6"
  }
 },
 "nbformat": 4,
 "nbformat_minor": 0
}
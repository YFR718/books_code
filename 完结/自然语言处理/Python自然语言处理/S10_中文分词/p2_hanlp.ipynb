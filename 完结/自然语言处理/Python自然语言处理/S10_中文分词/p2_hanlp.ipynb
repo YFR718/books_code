{
 "cells": [
  {
   "cell_type": "code",
   "execution_count": 1,
   "metadata": {
    "collapsed": true,
    "pycharm": {
     "name": "#%%\n"
    }
   },
   "outputs": [],
   "source": [
    "from pyhanlp import *"
   ]
  },
  {
   "cell_type": "code",
   "execution_count": 4,
   "outputs": [
    {
     "name": "stdout",
     "output_type": "stream",
     "text": [
      "[闫/nz, 法人/nnt, 来/vf, 北京/ns, 清华大学/ntu]\n"
     ]
    }
   ],
   "source": [
    "# 分词\n",
    "print(HanLP.segment(\"闫法人来北京清华大学\"))"
   ],
   "metadata": {
    "collapsed": false,
    "pycharm": {
     "name": "#%%\n"
    }
   }
  },
  {
   "cell_type": "code",
   "execution_count": 5,
   "outputs": [
    {
     "name": "stdout",
     "output_type": "stream",
     "text": [
      "1\t闫法人\t闫法人\tn\tn\t_\t2\t主谓关系\t_\t_\n",
      "2\t来\t来\tv\tv\t_\t0\t核心关系\t_\t_\n",
      "3\t北京\t北京\tns\tns\t_\t4\t定中关系\t_\t_\n",
      "4\t清华大学\t清华大学\tni\tntu\t_\t2\t动宾关系\t_\t_\n",
      "\n"
     ]
    }
   ],
   "source": [
    "# 依存分析使用\n",
    "print(HanLP.parseDependency(\"闫法人来北京清华大学\"))"
   ],
   "metadata": {
    "collapsed": false,
    "pycharm": {
     "name": "#%%\n"
    }
   }
  },
  {
   "cell_type": "code",
   "execution_count": 6,
   "outputs": [
    {
     "name": "stdout",
     "output_type": "stream",
     "text": [
      "^C\n"
     ]
    }
   ],
   "source": [
    "! hanlp serve"
   ],
   "metadata": {
    "collapsed": false,
    "pycharm": {
     "name": "#%%\n"
    }
   }
  },
  {
   "cell_type": "code",
   "execution_count": 7,
   "outputs": [
    {
     "name": "stdout",
     "output_type": "stream",
     "text": [
      " 驱动器 D 中的卷是 Data\n",
      " 卷的序列号是 1873-BFAD\n",
      "\n",
      " D:\\code\\books_code\\Python自然语言处理\\S10_中文分词 的目录\n",
      "\n",
      "2022/09/05  17:43    <DIR>          .\n",
      "2022/08/27  17:24    <DIR>          ..\n",
      "2022/09/05  17:37            11,283 p1_jieba.ipynb\n",
      "2022/09/05  17:43             2,399 p2_hanlp.ipynb\n",
      "2022/09/05  17:11                 9 user.txt\n",
      "2022/09/05  15:12        16,820,358 斗破苍穹.txt\n",
      "               4 个文件     16,834,049 字节\n",
      "               2 个目录 320,898,002,944 可用字节\n"
     ]
    }
   ],
   "source": [
    "# 关键词提取\n",
    "! dir\n"
   ],
   "metadata": {
    "collapsed": false,
    "pycharm": {
     "name": "#%%\n"
    }
   }
  },
  {
   "cell_type": "code",
   "execution_count": null,
   "outputs": [],
   "source": [],
   "metadata": {
    "collapsed": false,
    "pycharm": {
     "name": "#%%\n"
    }
   }
  }
 ],
 "metadata": {
  "kernelspec": {
   "display_name": "Python 3",
   "language": "python",
   "name": "python3"
  },
  "language_info": {
   "codemirror_mode": {
    "name": "ipython",
    "version": 2
   },
   "file_extension": ".py",
   "mimetype": "text/x-python",
   "name": "python",
   "nbconvert_exporter": "python",
   "pygments_lexer": "ipython2",
   "version": "2.7.6"
  }
 },
 "nbformat": 4,
 "nbformat_minor": 0
}
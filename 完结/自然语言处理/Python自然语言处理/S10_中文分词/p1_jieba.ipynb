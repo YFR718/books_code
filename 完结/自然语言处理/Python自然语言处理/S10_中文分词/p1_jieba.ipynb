{
 "cells": [
  {
   "cell_type": "code",
   "execution_count": 1,
   "metadata": {
    "collapsed": true,
    "pycharm": {
     "name": "#%%\n"
    }
   },
   "outputs": [],
   "source": [
    "import jieba"
   ]
  },
  {
   "cell_type": "code",
   "execution_count": 2,
   "outputs": [
    {
     "name": "stderr",
     "output_type": "stream",
     "text": [
      "Building prefix dict from the default dictionary ...\n",
      "Loading model from cache C:\\Users\\24378\\AppData\\Local\\Temp\\jieba.cache\n",
      "Loading model cost 0.414 seconds.\n",
      "Prefix dict has been built successfully.\n"
     ]
    },
    {
     "data": {
      "text/plain": "'我/来到/北京/清华/清华大学/华大/大学'"
     },
     "execution_count": 2,
     "metadata": {},
     "output_type": "execute_result"
    }
   ],
   "source": [
    "\"/\".join(jieba.cut(\"我来到北京清华大学\",cut_all=True))"
   ],
   "metadata": {
    "collapsed": false,
    "pycharm": {
     "name": "#%%\n"
    }
   }
  },
  {
   "cell_type": "code",
   "execution_count": 3,
   "outputs": [
    {
     "data": {
      "text/plain": "'我/来到/北京/清华大学'"
     },
     "execution_count": 3,
     "metadata": {},
     "output_type": "execute_result"
    }
   ],
   "source": [
    "\"/\".join(jieba.cut(\"我来到北京清华大学\",cut_all=False))"
   ],
   "metadata": {
    "collapsed": false,
    "pycharm": {
     "name": "#%%\n"
    }
   }
  },
  {
   "cell_type": "code",
   "execution_count": 4,
   "outputs": [
    {
     "data": {
      "text/plain": "'我/来到/北京/清华/华大/大学/清华大学'"
     },
     "execution_count": 4,
     "metadata": {},
     "output_type": "execute_result"
    }
   ],
   "source": [
    "\"/\".join(jieba.cut_for_search(\"我来到北京清华大学\"))"
   ],
   "metadata": {
    "collapsed": false,
    "pycharm": {
     "name": "#%%\n"
    }
   }
  },
  {
   "cell_type": "markdown",
   "source": [
    "### 自定义词典"
   ],
   "metadata": {
    "collapsed": false,
    "pycharm": {
     "name": "#%% md\n"
    }
   }
  },
  {
   "cell_type": "code",
   "execution_count": 5,
   "outputs": [
    {
     "data": {
      "text/plain": "'闫/法人/来到/北京/清华大学'"
     },
     "execution_count": 5,
     "metadata": {},
     "output_type": "execute_result"
    }
   ],
   "source": [
    "\"/\".join(jieba.cut(\"闫法人来到北京清华大学\"))"
   ],
   "metadata": {
    "collapsed": false,
    "pycharm": {
     "name": "#%%\n"
    }
   }
  },
  {
   "cell_type": "code",
   "execution_count": 7,
   "outputs": [
    {
     "data": {
      "text/plain": "'闫法人/来到/北京/清华大学'"
     },
     "execution_count": 7,
     "metadata": {},
     "output_type": "execute_result"
    }
   ],
   "source": [
    "# 词典文件\n",
    "jieba.load_userdict('./user.txt')\n",
    "\"/\".join(jieba.cut(\"闫法人来到北京清华大学\"))"
   ],
   "metadata": {
    "collapsed": false,
    "pycharm": {
     "name": "#%%\n"
    }
   }
  },
  {
   "cell_type": "code",
   "execution_count": 12,
   "outputs": [
    {
     "data": {
      "text/plain": "'张瑾/绘/来到/北京/清华大学'"
     },
     "execution_count": 12,
     "metadata": {},
     "output_type": "execute_result"
    }
   ],
   "source": [
    "\"/\".join(jieba.cut(\"张瑾绘来到北京清华大学\"))"
   ],
   "metadata": {
    "collapsed": false,
    "pycharm": {
     "name": "#%%\n"
    }
   }
  },
  {
   "cell_type": "code",
   "execution_count": 13,
   "outputs": [
    {
     "data": {
      "text/plain": "'张瑾绘/来到/北京/清华大学'"
     },
     "execution_count": 13,
     "metadata": {},
     "output_type": "execute_result"
    }
   ],
   "source": [
    "# 动态修改词频\n",
    "jieba.suggest_freq(\"张瑾绘\",tune=True)\n",
    "\"/\".join(jieba.cut(\"张瑾绘来到北京清华大学\"))"
   ],
   "metadata": {
    "collapsed": false,
    "pycharm": {
     "name": "#%%\n"
    }
   }
  },
  {
   "cell_type": "markdown",
   "source": [
    "### 词性标注"
   ],
   "metadata": {
    "collapsed": false,
    "pycharm": {
     "name": "#%% md\n"
    }
   }
  },
  {
   "cell_type": "code",
   "execution_count": 14,
   "outputs": [],
   "source": [
    "import jieba.posseg as pseg"
   ],
   "metadata": {
    "collapsed": false,
    "pycharm": {
     "name": "#%%\n"
    }
   }
  },
  {
   "cell_type": "code",
   "execution_count": 15,
   "outputs": [
    {
     "name": "stdout",
     "output_type": "stream",
     "text": [
      "闫法人 x\n",
      "来到 v\n",
      "北京 ns\n",
      "清华大学 nt\n"
     ]
    }
   ],
   "source": [
    "words = pseg.cut(\"闫法人来到北京清华大学\")\n",
    "for word,flag in words:\n",
    "    print(word,flag)"
   ],
   "metadata": {
    "collapsed": false,
    "pycharm": {
     "name": "#%%\n"
    }
   }
  },
  {
   "cell_type": "markdown",
   "source": [
    "### 断词位置"
   ],
   "metadata": {
    "collapsed": false,
    "pycharm": {
     "name": "#%% md\n"
    }
   }
  },
  {
   "cell_type": "code",
   "execution_count": 16,
   "outputs": [
    {
     "name": "stdout",
     "output_type": "stream",
     "text": [
      "闫法人   start: 0 ,end: 3\n",
      "来到   start: 3 ,end: 5\n",
      "北京   start: 5 ,end: 7\n",
      "清华大学   start: 7 ,end: 11\n"
     ]
    }
   ],
   "source": [
    "results = jieba.tokenize(\"闫法人来到北京清华大学\")\n",
    "for r in results:\n",
    "    print(r[0],\"  start:\",r[1],\",end:\",r[2])"
   ],
   "metadata": {
    "collapsed": false,
    "pycharm": {
     "name": "#%%\n"
    }
   }
  },
  {
   "cell_type": "markdown",
   "source": [
    "### 关键词抽取\n",
    "基于TF-IDF算法计算文本中词语的权重，进行关键字提取"
   ],
   "metadata": {
    "collapsed": false,
    "pycharm": {
     "name": "#%% md\n"
    }
   }
  },
  {
   "cell_type": "markdown",
   "source": [],
   "metadata": {
    "collapsed": false,
    "pycharm": {
     "name": "#%% md\n"
    }
   }
  },
  {
   "cell_type": "code",
   "execution_count": 19,
   "outputs": [
    {
     "data": {
      "text/plain": "[('闫法人', 2.988691875725),\n ('清华大学', 2.020148680405),\n ('来到', 1.3464217210275),\n ('北京', 1.16685057718)]"
     },
     "execution_count": 19,
     "metadata": {},
     "output_type": "execute_result"
    }
   ],
   "source": [
    "import jieba.analyse as analyse\n",
    "keywords = analyse.extract_tags(\"闫法人来到北京清华大学\",withWeight=True)\n",
    "keywords"
   ],
   "metadata": {
    "collapsed": false,
    "pycharm": {
     "name": "#%%\n"
    }
   }
  },
  {
   "cell_type": "markdown",
   "source": [
    "### 使用jieba分析斗破苍穹出现次数最多的词"
   ],
   "metadata": {
    "collapsed": false,
    "pycharm": {
     "name": "#%% md\n"
    }
   }
  },
  {
   "cell_type": "code",
   "execution_count": 21,
   "outputs": [
    {
     "name": "stdout",
     "output_type": "stream",
     "text": [
      "('，', 366350)\n",
      "(' ', 325651)\n",
      "('的', 183542)\n",
      "('\\n', 164417)\n",
      "('。', 101334)\n",
      "('了', 66015)\n",
      "('是', 65711)\n",
      "('萧炎', 44944)\n",
      "('在', 43908)\n",
      "('”', 43326)\n",
      "('“', 43040)\n",
      "('也', 32593)\n",
      "('着', 32540)\n",
      "('那', 28716)\n",
      "('他', 20714)\n",
      "('这', 20594)\n",
      "('而', 17641)\n",
      "('便是', 15943)\n",
      "('道', 15334)\n",
      "('你', 13745)\n",
      "('？', 13203)\n",
      "('！', 12891)\n",
      "('都', 12706)\n",
      "('得', 12666)\n",
      "('人', 12428)\n",
      "('将', 12335)\n",
      "('我', 11454)\n",
      "('上', 11436)\n",
      "('中', 10460)\n",
      "('…', 10237)\n",
      "('与', 9905)\n",
      "('：', 9372)\n",
      "('目光', 9057)\n",
      "('对', 8936)\n",
      "('被', 8357)\n",
      "('有些', 8320)\n",
      "('却是', 8237)\n",
      "('不', 8065)\n",
      "('能够', 7431)\n",
      "('望', 7393)\n",
      "('之中', 7195)\n",
      "('地', 6909)\n",
      "('他们', 6677)\n",
      "('旋即', 6466)\n",
      "('不过', 6194)\n",
      "('还', 6173)\n",
      "('让', 6065)\n",
      "('其', 6048)\n",
      "('有着', 5945)\n",
      "('会', 5929)\n",
      "('到', 5920)\n",
      "('一', 5898)\n",
      "('就', 5891)\n",
      "('但', 5731)\n",
      "('之上', 5665)\n",
      "('有', 5553)\n",
      "('一些', 5482)\n",
      "('之', 5438)\n",
      "('吧', 5427)\n",
      "('强者', 5298)\n",
      "('下', 5275)\n",
      "('实力', 5254)\n",
      "('等', 5247)\n",
      "(',', 5228)\n",
      "('出', 5191)\n",
      "('这种', 5088)\n",
      "('没有', 5074)\n",
      "('从', 5046)\n",
      "('可', 5042)\n",
      "('然后', 5027)\n",
      "('时', 4913)\n",
      "('若', 4901)\n",
      "('后', 4862)\n",
      "('去', 4859)\n",
      "('火焰', 4809)\n",
      "('来', 4697)\n",
      "('心中', 4656)\n",
      "('一个', 4601)\n",
      "('她', 4568)\n",
      "('出现', 4542)\n",
      "('能量', 4512)\n",
      "('一道', 4460)\n",
      "('斗气', 4456)\n",
      "('所', 4413)\n",
      "('身体', 4393)\n",
      "('’', 4363)\n",
      "('微微', 4345)\n",
      "('最后', 4342)\n",
      "('什么', 4270)\n",
      "('这些', 4226)\n",
      "('起来', 4197)\n",
      "('知道', 4002)\n",
      "('间', 3984)\n",
      "('点头', 3902)\n",
      "('已经', 3857)\n",
      "('时间', 3848)\n",
      "('一声', 3823)\n",
      "('倒', 3807)\n",
      "('顿时', 3759)\n",
      "('一般', 3742)\n"
     ]
    }
   ],
   "source": [
    "txt = open('./斗破苍穹.txt',encoding='utf-8').read()\n",
    "words = jieba.lcut(txt)\n",
    "counts = {}\n",
    "for w in words:\n",
    "    counts[w] = counts.get(w,0)+1\n",
    "items = list(counts.items())\n",
    "items.sort(key=lambda x:x[1],reverse=True)\n",
    "for i in range(100):\n",
    "    print(items[i])"
   ],
   "metadata": {
    "collapsed": false,
    "pycharm": {
     "name": "#%%\n"
    }
   }
  },
  {
   "cell_type": "code",
   "execution_count": null,
   "outputs": [],
   "source": [],
   "metadata": {
    "collapsed": false,
    "pycharm": {
     "name": "#%%\n"
    }
   }
  }
 ],
 "metadata": {
  "kernelspec": {
   "display_name": "Python 3",
   "language": "python",
   "name": "python3"
  },
  "language_info": {
   "codemirror_mode": {
    "name": "ipython",
    "version": 2
   },
   "file_extension": ".py",
   "mimetype": "text/x-python",
   "name": "python",
   "nbconvert_exporter": "python",
   "pygments_lexer": "ipython2",
   "version": "2.7.6"
  }
 },
 "nbformat": 4,
 "nbformat_minor": 0
}